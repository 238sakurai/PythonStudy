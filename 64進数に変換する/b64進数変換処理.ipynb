{
 "cells": [
  {
   "cell_type": "markdown",
   "metadata": {},
   "source": [
    "b64"
   ]
  },
  {
   "cell_type": "code",
   "execution_count": null,
   "metadata": {
    "collapsed": true
   },
   "outputs": [],
   "source": [
    "import os\n",
    "import sys\n",
    "import gzip\n",
    "\n",
    "import sys\n",
    "import math\n",
    "\n",
    "b62chr = '0123456789abcdefghijklmnopqrstuvwxyzABCDEFGHIJKLMNOPQRSTUVWXYZ'\n",
    "br = len(b62chr)\n",
    "\n",
    "\n",
    "def b62encode(n, c=''):\n",
    "    n = int(n)\n",
    "    while n > 0:\n",
    "        m = n % br\n",
    "        n = int(math.floor(n / br))\n",
    "        c = c + b62chr[m]\n",
    "    else:\n",
    "        return c\n",
    "\n",
    "\n",
    "def b62decode(c):\n",
    "    return sum([b62chr.index(x) * br ** n\n",
    "            for n, x in enumerate(c)])\n"
   ]
  },
  {
   "cell_type": "code",
   "execution_count": null,
   "metadata": {
    "collapsed": true
   },
   "outputs": [],
   "source": [
    "dbid_master = {}\n"
   ]
  },
  {
   "cell_type": "code",
   "execution_count": null,
   "metadata": {
    "collapsed": true
   },
   "outputs": [],
   "source": [
    "def b62_id(c):\n",
    "    if c not in dbid_master:\n",
    "        idx = len(dbid_master.keys())+1\n",
    "        dbid_master[c] = b62encode(idx)\n",
    "    return dbid_master[c]\n"
   ]
  },
  {
   "cell_type": "code",
   "execution_count": null,
   "metadata": {
    "collapsed": true
   },
   "outputs": [],
   "source": [
    "#ファイル名を記入する\n",
    "fp = gzip.open('foobar.tsv.gz', 'rt')"
   ]
  },
  {
   "cell_type": "code",
   "execution_count": null,
   "metadata": {
    "collapsed": true
   },
   "outputs": [],
   "source": [
    "lens = []\n",
    "for line in fp:\n",
    "    row = line.strip().split('\\t')\n",
    "    db_ids = row[2].split(',')[1:]\n",
    "    b62_ids = [b62_id(x) for x in db_ids]\n",
    "    #以下'foovarを変更する'\n",
    "    id_str = '\\t'.join([row[0], row[1], 'foobar=,'+','.join(b62_ids)+',\\n'])\n",
    "    lens.append(len(id_str))\n",
    "    "
   ]
  },
  {
   "cell_type": "code",
   "execution_count": null,
   "metadata": {},
   "outputs": [],
   "source": [
    "b62_ids"
   ]
  },
  {
   "cell_type": "code",
   "execution_count": null,
   "metadata": {},
   "outputs": [],
   "source": [
    "id_str"
   ]
  },
  {
   "cell_type": "code",
   "execution_count": null,
   "metadata": {},
   "outputs": [],
   "source": [
    "max(lens)"
   ]
  },
  {
   "cell_type": "code",
   "execution_count": null,
   "metadata": {
    "collapsed": true
   },
   "outputs": [],
   "source": [
    "import pandas as pd"
   ]
  },
  {
   "cell_type": "code",
   "execution_count": null,
   "metadata": {
    "collapsed": true
   },
   "outputs": [],
   "source": [
    "df = pd.DataFrame(lens)"
   ]
  },
  {
   "cell_type": "code",
   "execution_count": null,
   "metadata": {},
   "outputs": [],
   "source": [
    "df.describe()"
   ]
  },
  {
   "cell_type": "code",
   "execution_count": null,
   "metadata": {},
   "outputs": [],
   "source": [
    "dbid_master"
   ]
  },
  {
   "cell_type": "code",
   "execution_count": null,
   "metadata": {},
   "outputs": [],
   "source": [
    "len('|sony_gender=denied|sony_age=45|sony_bravia=0|sony_blu_ray=0|sony_nasne=0')"
   ]
  },
  {
   "cell_type": "code",
   "execution_count": null,
   "metadata": {
    "collapsed": true
   },
   "outputs": [],
   "source": []
  }
 ],
 "metadata": {
  "kernelspec": {
   "display_name": "Python 3",
   "language": "python",
   "name": "python3"
  },
  "language_info": {
   "codemirror_mode": {
    "name": "ipython",
    "version": 3
   },
   "file_extension": ".py",
   "mimetype": "text/x-python",
   "name": "python",
   "nbconvert_exporter": "python",
   "pygments_lexer": "ipython3",
   "version": "3.6.1"
  }
 },
 "nbformat": 4,
 "nbformat_minor": 2
}
