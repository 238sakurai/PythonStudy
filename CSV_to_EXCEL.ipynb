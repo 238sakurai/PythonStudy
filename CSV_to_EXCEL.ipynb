{
 "cells": [
  {
   "cell_type": "code",
   "execution_count": null,
   "metadata": {
    "collapsed": true
   },
   "outputs": [],
   "source": [
    "import pandas as pd\n",
    "import glob\n",
    "import os\n",
    "\n",
    "files = glob.glob(os.path.join(r'C:\\Users\\hogehoge\\hogehoge\\hogefilename_*.csv'))\n",
    "df_list=[]\n",
    "\n",
    "for foo in files:\n",
    "#    print(foo) #デバック用\n",
    "    tmp_df = pd.read_csv(foo, delimiter='\\t', encoding='UTF-8')\n",
    "    tmp_df['filename'] = os.path.basename(foo)\n",
    "    df_list.append(tmp_df)\n",
    "df = pd.concat(df_list, ignore_index=True)\n",
    "\n",
    "df.to_excel('baa.xlsx', sheet_name='csvALL')"
   ]
  }
 ],
 "metadata": {
  "kernelspec": {
   "display_name": "Python 3",
   "language": "python",
   "name": "python3"
  },
  "language_info": {
   "codemirror_mode": {
    "name": "ipython",
    "version": 3
   },
   "file_extension": ".py",
   "mimetype": "text/x-python",
   "name": "python",
   "nbconvert_exporter": "python",
   "pygments_lexer": "ipython3",
   "version": "3.6.1"
  }
 },
 "nbformat": 4,
 "nbformat_minor": 2
}
