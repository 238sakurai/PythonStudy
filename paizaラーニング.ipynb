{
 "cells": [
  {
   "cell_type": "markdown",
   "metadata": {},
   "source": [
    "# eラーニング関係で学んだプログラムを記載する"
   ]
  },
  {
   "cell_type": "markdown",
   "metadata": {
    "collapsed": true,
    "scrolled": true
   },
   "source": [
    "    "
   ]
  },
  {
   "cell_type": "markdown",
   "metadata": {},
   "source": [
    "# ＃06:カンマ区切りデータを、splitで分割"
   ]
  },
  {
   "cell_type": "code",
   "execution_count": null,
   "metadata": {
    "collapsed": true
   },
   "outputs": [],
   "source": [
    "# coding: utf-8\n",
    "# 取り込んだデータをリストに格納する\n",
    "\n",
    "line = input().rstrip().split(\",\")\n",
    "print(line)\n",
    "\n",
    "#要素数の確認\n",
    "print(len(line))\n"
   ]
  },
  {
   "cell_type": "code",
   "execution_count": 4,
   "metadata": {},
   "outputs": [
    {
     "name": "stdout",
     "output_type": "stream",
     "text": [
      "AAAが出現！\n",
      "CCCが出現！\n",
      "BBBが出現！\n",
      "ABCが出現！\n"
     ]
    }
   ],
   "source": [
    "for enemy in line:\n",
    "    print(enemy + \"が出現！\")\n"
   ]
  },
  {
   "cell_type": "markdown",
   "metadata": {},
   "source": [
    "### 演習課題「英文の単語数を数えよう」"
   ]
  },
  {
   "cell_type": "code",
   "execution_count": 9,
   "metadata": {},
   "outputs": [
    {
     "name": "stdout",
     "output_type": "stream",
     "text": [
      "20\n"
     ]
    }
   ],
   "source": [
    "# ある英文がstrという文字列に代入されています。\n",
    "# この文字列を、split関数を使って、スペースのところで分割して、単語の数を出力してください。\n",
    "str = \"One cold rainy day when my father was a little boy he met an old alley cat on his street\"\n",
    "line = str.rsplit(\" \")\n",
    "print(len(line))"
   ]
  },
  {
   "cell_type": "markdown",
   "metadata": {},
   "source": [
    "### 演習課題「標準入力から読み込んだURLを分割しよう」"
   ]
  },
  {
   "cell_type": "code",
   "execution_count": 12,
   "metadata": {},
   "outputs": [
    {
     "name": "stdout",
     "output_type": "stream",
     "text": [
      "https://paiza.jp/cgc/users/ready\n",
      "['https:', '', 'paiza.jp', 'cgc', 'users', 'ready']\n"
     ]
    }
   ],
   "source": [
    "# 標準入力から読み込んだURLを分割する\n",
    "# https://paiza.jp/cgc/users/ready\n",
    "\n",
    "url_str = input().rstrip().split(\"/\")\n",
    "print(url_str)"
   ]
  },
  {
   "cell_type": "markdown",
   "metadata": {},
   "source": [
    "# ＃07:複数行データを、リストに格納する"
   ]
  },
  {
   "cell_type": "code",
   "execution_count": 3,
   "metadata": {},
   "outputs": [
    {
     "name": "stdout",
     "output_type": "stream",
     "text": [
      "[]\n"
     ]
    }
   ],
   "source": [
    "import sys\n",
    "array = []\n",
    "for line in sys.stdin.readlines():\n",
    "    array.append(line.rstrip())\n",
    "print(array)\n"
   ]
  },
  {
   "cell_type": "markdown",
   "metadata": {},
   "source": [
    "### 演習課題「標準入力から読み込んだ複数行を出力する」"
   ]
  },
  {
   "cell_type": "code",
   "execution_count": 4,
   "metadata": {
    "collapsed": true
   },
   "outputs": [],
   "source": [
    "#右のコードエリアのプログラムは、RPGの敵の名前を、\n",
    "#入力エリアから複数行データとして読み込んで出力します。\n",
    "#この文字列を、「＊＊が現れた！」という形式で出力してください。\n",
    "#プログラムを実行して、正しく出力されれば演習課題クリアです！"
   ]
  },
  {
   "cell_type": "code",
   "execution_count": 5,
   "metadata": {
    "collapsed": true
   },
   "outputs": [],
   "source": [
    "#入力される値\n",
    "\n",
    "####################\n",
    "#スライム\n",
    "#モンスター\n",
    "#ゾンビ\n",
    "#ドラゴン\n",
    "#魔王\n",
    "###################\n"
   ]
  },
  {
   "cell_type": "code",
   "execution_count": 6,
   "metadata": {
    "collapsed": true
   },
   "outputs": [],
   "source": [
    "import sys\n",
    "for line in sys.stdin.readlines():\n",
    "\tmsg = line.rstrip()\n",
    "\tprint(msg + \"が現れた！\")"
   ]
  },
  {
   "cell_type": "markdown",
   "metadata": {},
   "source": [
    "### 演習課題「読み込んだ複数行のカンマ区切りデータを出力しよう」"
   ]
  },
  {
   "cell_type": "code",
   "execution_count": 7,
   "metadata": {
    "collapsed": true
   },
   "outputs": [],
   "source": [
    "#右のコードエリアのプログラムは、入力エリアから複数行データを読み込みます。\n",
    "#入力エリアには、RPGの敵の名前と匹数が、カンマ区切りで用意してあります。\n",
    "#読み込んだデータをカンマで分割して、「AがB匹現れた」と出力してください。\n",
    "#プログラムを実行して、正しく出力されれば演習課題クリアです！"
   ]
  },
  {
   "cell_type": "code",
   "execution_count": 8,
   "metadata": {
    "collapsed": true
   },
   "outputs": [],
   "source": [
    "import sys\n",
    "for line in sys.stdin.readlines():\n",
    "\t# ここに、文字列を分割して、出力するコードを書く\n",
    "\tenemy = line.rstrip().split(\",\")\n",
    "\tprint(enemy[0]+ \"が\" + enemy[1] + \"匹現れた\")"
   ]
  },
  {
   "cell_type": "markdown",
   "metadata": {
    "collapsed": true
   },
   "source": [
    "# 08:リストを使ったランダムくじ "
   ]
  },
  {
   "cell_type": "code",
   "execution_count": 1,
   "metadata": {},
   "outputs": [
    {
     "name": "stdout",
     "output_type": "stream",
     "text": [
      "スライム,モンスター,ドラゴン,魔王\n",
      "スライムが現れた！\n",
      "モンスターが現れた！\n",
      "ドラゴンが現れた！\n",
      "魔王が現れた！\n",
      "敵は4匹\n",
      "3\n",
      "魔王に会心の一撃!魔王を倒した\n"
     ]
    }
   ],
   "source": [
    "# coding: utf-8\n",
    "# リストを使ったランダムくじ\n",
    "# スライム,モンスター,ドラゴン,魔王\n",
    "\n",
    "import random\n",
    "\n",
    "line = input().rstrip().split(\",\")\n",
    "for enemy in line:\n",
    "\tprint(enemy + \"が現れた！\")\n",
    "\n",
    "#   ランダムな数を作る範囲を調べる\n",
    "num = len(line)\n",
    "print(\"敵は\" + str(num) + \"匹\")\n",
    "\n",
    "\n",
    "#   ランダムな数を生成\n",
    "attack = random.randrange(num)\n",
    "print(attack)\n",
    "\n",
    "#   選んだ敵に、「会心の一撃！」と表示\n",
    "print(line[attack]+\"に会心の一撃!\" + line[attack] + \"を倒した\" )"
   ]
  },
  {
   "cell_type": "markdown",
   "metadata": {},
   "source": [
    "### 演習課題「じゃんけんプログラムの作成」"
   ]
  },
  {
   "cell_type": "code",
   "execution_count": 3,
   "metadata": {},
   "outputs": [
    {
     "name": "stdout",
     "output_type": "stream",
     "text": [
      "グー,チョキ,パー\n",
      "['グー', 'チョキ', 'パー']\n",
      "グー\n"
     ]
    }
   ],
   "source": [
    "#入力エリアに、じゃんけんの手(例：グー,チョキ,パー)が用意してあります。\n",
    "#右のコードエリアのコメントを参考にして、じゃんけんプログラムを作ってください。\n",
    "#じゃんけんの手は、標準入力から読み込んだ文字列をカンマで分割して、そのうち1つをランダムに出力します。\n",
    "#このとき、カンマで分割したリストをprint関数で出力して、それからじゃんけんの結果を出力してください。\n",
    "#プログラムを実行して、正しく出力されれば演習課題クリアです！\n",
    "\n",
    "# coding: utf-8\n",
    "# じゃんけんプログラム\n",
    "#################################\n",
    "#インプットは　グー,チョキ,パー #\n",
    "#################################\n",
    "import random\n",
    "# 標準入力から1行取得\n",
    "line = input().rstrip()\n",
    "\n",
    "# カンマで分割して、リストに代入\n",
    "janken = line.split(\",\")\n",
    "\n",
    "# リストの要素数を変数に代入\n",
    "num = len(janken)\n",
    "\n",
    "# リストの中身を出力\n",
    "print(janken)\n",
    "\n",
    "# ランダムに選んだリストの要素を出力\n",
    "print(janken[random.randrange(num)])\n",
    "\n",
    "\n"
   ]
  },
  {
   "cell_type": "markdown",
   "metadata": {},
   "source": [
    "### おみくじバージョン"
   ]
  },
  {
   "cell_type": "code",
   "execution_count": null,
   "metadata": {
    "collapsed": true
   },
   "outputs": [],
   "source": [
    "# coding: utf-8\n",
    "# おみくじプログラム\n",
    "\n",
    "#################################\n",
    "#インプットは　グー,チョキ,パー #\n",
    "#################################\n",
    "\n",
    "import random\n",
    "line = input().rstrip()\n",
    "\n",
    "# 今回は自力で全部書いてみよう！\n",
    "\n",
    "# カンマで分割して、リストに代入\n",
    "omikuji = line.split(\",\")\n",
    "# リストの要素数を変数に代入\n",
    "num = len(omikuji)\n",
    "\n",
    "# リストの中身を出力\n",
    "print(omikuji)\n",
    "\n",
    "# ランダムに選んだリストの要素を出力\n",
    "print(omikuji[random.randrange(num)])"
   ]
  },
  {
   "cell_type": "code",
   "execution_count": null,
   "metadata": {
    "collapsed": true
   },
   "outputs": [],
   "source": []
  },
  {
   "cell_type": "code",
   "execution_count": null,
   "metadata": {
    "collapsed": true
   },
   "outputs": [],
   "source": []
  },
  {
   "cell_type": "code",
   "execution_count": null,
   "metadata": {
    "collapsed": true
   },
   "outputs": [],
   "source": []
  }
 ],
 "metadata": {
  "kernelspec": {
   "display_name": "Python 3",
   "language": "python",
   "name": "python3"
  },
  "language_info": {
   "codemirror_mode": {
    "name": "ipython",
    "version": 3
   },
   "file_extension": ".py",
   "mimetype": "text/x-python",
   "name": "python",
   "nbconvert_exporter": "python",
   "pygments_lexer": "ipython3",
   "version": "3.6.1"
  }
 },
 "nbformat": 4,
 "nbformat_minor": 2
}
