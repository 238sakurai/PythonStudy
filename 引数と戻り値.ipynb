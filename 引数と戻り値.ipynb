{
 "cells": [
  {
   "cell_type": "markdown",
   "metadata": {},
   "source": [
    "引数と戻り値を追加する"
   ]
  },
  {
   "cell_type": "code",
   "execution_count": 1,
   "metadata": {
    "collapsed": true
   },
   "outputs": [],
   "source": [
    "def say_hello():\n",
    "    print(\"hello world\")\n",
    "    \n"
   ]
  },
  {
   "cell_type": "code",
   "execution_count": 2,
   "metadata": {},
   "outputs": [
    {
     "name": "stdout",
     "output_type": "stream",
     "text": [
      "hello world\n"
     ]
    }
   ],
   "source": [
    "say_hello()"
   ]
  },
  {
   "cell_type": "code",
   "execution_count": 4,
   "metadata": {
    "collapsed": true
   },
   "outputs": [],
   "source": [
    "def sum():\n",
    "    print(10 + 20)"
   ]
  },
  {
   "cell_type": "code",
   "execution_count": 5,
   "metadata": {},
   "outputs": [
    {
     "name": "stdout",
     "output_type": "stream",
     "text": [
      "30\n"
     ]
    }
   ],
   "source": [
    "sum()"
   ]
  },
  {
   "cell_type": "code",
   "execution_count": null,
   "metadata": {
    "collapsed": true
   },
   "outputs": [],
   "source": []
  },
  {
   "cell_type": "code",
   "execution_count": 20,
   "metadata": {
    "collapsed": true
   },
   "outputs": [],
   "source": [
    "def sum(x):\n",
    "    print(x + 20)"
   ]
  },
  {
   "cell_type": "code",
   "execution_count": 21,
   "metadata": {},
   "outputs": [
    {
     "name": "stdout",
     "output_type": "stream",
     "text": [
      "21\n"
     ]
    }
   ],
   "source": [
    "sum(1)"
   ]
  },
  {
   "cell_type": "code",
   "execution_count": null,
   "metadata": {
    "collapsed": true
   },
   "outputs": [],
   "source": []
  },
  {
   "cell_type": "code",
   "execution_count": 22,
   "metadata": {
    "collapsed": true
   },
   "outputs": [],
   "source": [
    "def sum(x,y):\n",
    "    print(x + y)"
   ]
  },
  {
   "cell_type": "code",
   "execution_count": 23,
   "metadata": {},
   "outputs": [
    {
     "name": "stdout",
     "output_type": "stream",
     "text": [
      "500\n"
     ]
    }
   ],
   "source": [
    "sum(300,200)"
   ]
  },
  {
   "cell_type": "markdown",
   "metadata": {},
   "source": [
    "戻り値を追加"
   ]
  },
  {
   "cell_type": "code",
   "execution_count": 24,
   "metadata": {
    "collapsed": true
   },
   "outputs": [],
   "source": [
    "def sum(x,y):\n",
    "    return x + y \n"
   ]
  },
  {
   "cell_type": "code",
   "execution_count": 25,
   "metadata": {},
   "outputs": [
    {
     "name": "stdout",
     "output_type": "stream",
     "text": [
      "5\n"
     ]
    }
   ],
   "source": [
    "num1 = sum(3,2)\n",
    "print(num1)"
   ]
  },
  {
   "cell_type": "code",
   "execution_count": 26,
   "metadata": {},
   "outputs": [
    {
     "name": "stdout",
     "output_type": "stream",
     "text": [
      "7\n"
     ]
    }
   ],
   "source": [
    "num1 = sum(3,4)\n",
    "print(num1)"
   ]
  },
  {
   "cell_type": "code",
   "execution_count": 27,
   "metadata": {},
   "outputs": [
    {
     "name": "stdout",
     "output_type": "stream",
     "text": [
      "700\n"
     ]
    }
   ],
   "source": [
    "num2 = sum(300,400)\n",
    "print(num2)"
   ]
  },
  {
   "cell_type": "code",
   "execution_count": 28,
   "metadata": {
    "collapsed": true
   },
   "outputs": [],
   "source": [
    "a = 100\n",
    "b = 100"
   ]
  },
  {
   "cell_type": "code",
   "execution_count": 29,
   "metadata": {},
   "outputs": [
    {
     "name": "stdout",
     "output_type": "stream",
     "text": [
      "200\n"
     ]
    }
   ],
   "source": [
    "num3 = sum(a,b)\n",
    "print(num3)"
   ]
  },
  {
   "cell_type": "code",
   "execution_count": 31,
   "metadata": {},
   "outputs": [
    {
     "name": "stdout",
     "output_type": "stream",
     "text": [
      "Aの数字を入力100\n",
      "Bの数字を入力10000\n"
     ]
    }
   ],
   "source": [
    "A = input(\"Aの数字を入力\")\n",
    "B = input(\"Bの数字を入力\")"
   ]
  },
  {
   "cell_type": "code",
   "execution_count": 32,
   "metadata": {},
   "outputs": [
    {
     "name": "stdout",
     "output_type": "stream",
     "text": [
      "10010000\n"
     ]
    }
   ],
   "source": [
    "num4 = sum(A,B)\n",
    "print(num4)"
   ]
  },
  {
   "cell_type": "code",
   "execution_count": null,
   "metadata": {
    "collapsed": true
   },
   "outputs": [],
   "source": []
  },
  {
   "cell_type": "code",
   "execution_count": 33,
   "metadata": {},
   "outputs": [
    {
     "name": "stdout",
     "output_type": "stream",
     "text": [
      "12\n"
     ]
    }
   ],
   "source": [
    "# 掛け算関数を呼び出す\n",
    "\n",
    "def multiply(x, y):\n",
    "    return x * y\n",
    "\n",
    "# この下に関数呼び出しを記述する\n",
    "num = multiply(3,4)\n",
    "print(num)"
   ]
  },
  {
   "cell_type": "code",
   "execution_count": 35,
   "metadata": {},
   "outputs": [],
   "source": [
    "# 掛け算関数を作成\n",
    "\n",
    "def multiply(x, y):\n",
    "    # この下に処理を記述する\n",
    "    return x * y\n",
    "\n"
   ]
  },
  {
   "cell_type": "code",
   "execution_count": 36,
   "metadata": {},
   "outputs": [
    {
     "name": "stdout",
     "output_type": "stream",
     "text": [
      "12\n",
      "35\n",
      "408\n"
     ]
    }
   ],
   "source": [
    "print(multiply(3, 4))\n",
    "print(multiply(5, 7))\n",
    "print(multiply(12, 34))\n"
   ]
  },
  {
   "cell_type": "code",
   "execution_count": null,
   "metadata": {
    "collapsed": true
   },
   "outputs": [],
   "source": []
  },
  {
   "cell_type": "code",
   "execution_count": 37,
   "metadata": {},
   "outputs": [
    {
     "ename": "SyntaxError",
     "evalue": "invalid syntax (<ipython-input-37-7d9d25f71cb8>, line 1)",
     "output_type": "error",
     "traceback": [
      "\u001b[1;36m  File \u001b[1;32m\"<ipython-input-37-7d9d25f71cb8>\"\u001b[1;36m, line \u001b[1;32m1\u001b[0m\n\u001b[1;33m    }\u001b[0m\n\u001b[1;37m    ^\u001b[0m\n\u001b[1;31mSyntaxError\u001b[0m\u001b[1;31m:\u001b[0m invalid syntax\n"
     ]
    }
   ],
   "source": [
    "}"
   ]
  },
  {
   "cell_type": "markdown",
   "metadata": {},
   "source": [
    "# 九九の表"
   ]
  },
  {
   "cell_type": "code",
   "execution_count": 43,
   "metadata": {
    "collapsed": true
   },
   "outputs": [],
   "source": [
    "def multiply(x, y):\n",
    "    return x * y\n",
    "\n"
   ]
  },
  {
   "cell_type": "code",
   "execution_count": 46,
   "metadata": {},
   "outputs": [
    {
     "name": "stdout",
     "output_type": "stream",
     "text": [
      "1, 2, 3, 4, 5, 6, 7, 8, 9\n",
      "2, 4, 6, 8, 10, 12, 14, 16, 18\n",
      "3, 6, 9, 12, 15, 18, 21, 24, 27\n",
      "4, 8, 12, 16, 20, 24, 28, 32, 36\n",
      "5, 10, 15, 20, 25, 30, 35, 40, 45\n",
      "6, 12, 18, 24, 30, 36, 42, 48, 54\n",
      "7, 14, 21, 28, 35, 42, 49, 56, 63\n",
      "8, 16, 24, 32, 40, 48, 56, 64, 72\n",
      "9, 18, 27, 36, 45, 54, 63, 72, 81\n"
     ]
    }
   ],
   "source": [
    "for step in range(1, 10):\n",
    "    for num in range(1,10):\n",
    "        print(multiply(step,num), end=\"\")\n",
    "        if num < 9:\n",
    "            print(\", \", end=\"\")\n",
    "    print(\"\")\n"
   ]
  },
  {
   "cell_type": "code",
   "execution_count": null,
   "metadata": {
    "collapsed": true
   },
   "outputs": [],
   "source": []
  },
  {
   "cell_type": "markdown",
   "metadata": {},
   "source": [
    "# スコープの理解"
   ]
  },
  {
   "cell_type": "code",
   "execution_count": 51,
   "metadata": {},
   "outputs": [
    {
     "name": "stdout",
     "output_type": "stream",
     "text": [
      "5\n"
     ]
    }
   ],
   "source": [
    "def sum(x,y):\n",
    "    return x + y\n",
    "\n",
    "num = sum(3,2)\n",
    "print(num)"
   ]
  },
  {
   "cell_type": "code",
   "execution_count": null,
   "metadata": {},
   "outputs": [],
   "source": []
  },
  {
   "cell_type": "code",
   "execution_count": 55,
   "metadata": {},
   "outputs": [
    {
     "name": "stdout",
     "output_type": "stream",
     "text": [
      "hello 3\n",
      "30\n"
     ]
    }
   ],
   "source": [
    "a = 10\n",
    "b = 20\n",
    "\n",
    "\n",
    "def sum(x,y):\n",
    "    a = 3\n",
    "    print(\"hello \" + str(a)) \n",
    "    return x + y\n",
    "\n",
    "num = sum(a,b)\n",
    "print(num)"
   ]
  },
  {
   "cell_type": "markdown",
   "metadata": {},
   "source": [
    "スコープの理解"
   ]
  },
  {
   "cell_type": "code",
   "execution_count": 57,
   "metadata": {},
   "outputs": [
    {
     "name": "stdout",
     "output_type": "stream",
     "text": [
      "hello 3\n",
      "30\n",
      "hello 10\n"
     ]
    }
   ],
   "source": [
    "a = 10\n",
    "b = 20\n",
    "\n",
    "\n",
    "def sum(x,y):\n",
    "    a = 3\n",
    "    print(\"hello \" + str(a)) \n",
    "    return x + y\n",
    "\n",
    "num = sum(a,b)\n",
    "print(num)\n",
    "print(\"hello \" + str(a)) \n"
   ]
  },
  {
   "cell_type": "markdown",
   "metadata": {},
   "source": [
    "## グローバル変数の宣言"
   ]
  },
  {
   "cell_type": "code",
   "execution_count": 59,
   "metadata": {},
   "outputs": [
    {
     "name": "stdout",
     "output_type": "stream",
     "text": [
      "paizapaiza 3\n",
      "30\n",
      "hello 10\n",
      "paizapaiza 10\n"
     ]
    }
   ],
   "source": [
    "message = \"paiza\"\n",
    "\n",
    "a = 10\n",
    "b = 20\n",
    "\n",
    "\n",
    "def sum(x,y):\n",
    "    a = 3\n",
    "    global message\n",
    "    message += \"paiza\"\n",
    "    print(message + \" \" + str(a)) \n",
    "    return x + y\n",
    "\n",
    "num = sum(a,b)\n",
    "print(num)\n",
    "print(\"hello \" + str(a)) \n",
    "print(message + \" \" + str(a)) \n"
   ]
  },
  {
   "cell_type": "code",
   "execution_count": 63,
   "metadata": {},
   "outputs": [
    {
     "name": "stdout",
     "output_type": "stream",
     "text": [
      "hello world !\n"
     ]
    }
   ],
   "source": [
    "# 間違い探し\n",
    "\n",
    "# msg = \"hello\"\n",
    "\n",
    "def say_hello():\n",
    "    msg = \"hello\"\n",
    "    msg += \" \"\n",
    "    msg += \"world !\"\n",
    "    print(msg)\n",
    "\n",
    "say_hello()\n"
   ]
  },
  {
   "cell_type": "code",
   "execution_count": null,
   "metadata": {
    "collapsed": true
   },
   "outputs": [],
   "source": []
  },
  {
   "cell_type": "markdown",
   "metadata": {},
   "source": [
    "# ゲームのようなプログラム"
   ]
  },
  {
   "cell_type": "code",
   "execution_count": 67,
   "metadata": {},
   "outputs": [
    {
     "name": "stdout",
     "output_type": "stream",
     "text": [
      "主人公はスライムを攻撃した。\n",
      "主人公はゴブリンを攻撃した。\n",
      "主人公はゾンビを攻撃した。\n"
     ]
    }
   ],
   "source": [
    "monsters = [\"スライム\",\"ゴブリン\",\"ゾンビ\"]\n",
    "for enemy in monsters:\n",
    "    print(\"主人公は\" + enemy + \"を攻撃した。\" )"
   ]
  },
  {
   "cell_type": "code",
   "execution_count": 69,
   "metadata": {
    "collapsed": true
   },
   "outputs": [],
   "source": [
    "def attack(enemy):\n",
    "    print(\"主人公は\" + enemy + \"を攻撃した。\")\n",
    "    "
   ]
  },
  {
   "cell_type": "code",
   "execution_count": 70,
   "metadata": {},
   "outputs": [
    {
     "name": "stdout",
     "output_type": "stream",
     "text": [
      "主人公はスライムを攻撃した。\n",
      "主人公はゴブリンを攻撃した。\n",
      "主人公はゾンビを攻撃した。\n"
     ]
    }
   ],
   "source": [
    "monsters = [\"スライム\",\"ゴブリン\",\"ゾンビ\"]\n",
    "for enemy in monsters:\n",
    "    attack(enemy)"
   ]
  },
  {
   "cell_type": "code",
   "execution_count": 77,
   "metadata": {},
   "outputs": [
    {
     "name": "stdout",
     "output_type": "stream",
     "text": [
      "主人公はスライムを攻撃した。\n",
      "会心の一撃！ スライムに、100のダメージを与えた！\n",
      "主人公はゴブリンを攻撃した。\n",
      "ゴブリンに、4のダメージを与えた！\n",
      "主人公はゾンビを攻撃した。\n",
      "ゾンビに、2のダメージを与えた！\n"
     ]
    }
   ],
   "source": [
    "import random\n",
    "\n",
    "def attack(enemy):\n",
    "    print(\"主人公は\" + enemy + \"を攻撃した。\")\n",
    "    hit = random.randint(1,10)\n",
    "    if hit < 6:\n",
    "        print(enemy + \"に、\" + str(hit) + \"のダメージを与えた！\")\n",
    "    else:\n",
    "        print(\"会心の一撃！ \" + enemy + \"に、100のダメージを与えた！\")\n",
    "\n",
    "monsters = [\"スライム\",\"ゴブリン\",\"ゾンビ\"]\n",
    "for enemy in monsters:\n",
    "    attack(enemy)"
   ]
  },
  {
   "cell_type": "code",
   "execution_count": null,
   "metadata": {
    "collapsed": true
   },
   "outputs": [],
   "source": []
  },
  {
   "cell_type": "code",
   "execution_count": 81,
   "metadata": {},
   "outputs": [
    {
     "name": "stdout",
     "output_type": "stream",
     "text": [
      "800\n",
      "勇者はスライムを攻撃した\n",
      "敵のHPは残り600です\n",
      "戦士はスライムを攻撃した\n",
      "敵のHPは残り450です\n",
      "魔法使いはスライムを攻撃した\n",
      "敵のHPは残り350です\n"
     ]
    }
   ],
   "source": [
    "# RPGの攻撃シーン\n",
    "\n",
    "def attack(person):\n",
    "    print(person + \"はスライムを攻撃した\")\n",
    "\n",
    "def output_ememy_hp(enemy_hp):\n",
    "    print(\"敵のHPは残り\" + str(enemy_hp) + \"です\")\n",
    "\n",
    "enemy_hp = int(input())\n",
    "team = {\"勇者\" : 200, \"戦士\" : 150, \"魔法使い\" : 100}\n",
    "\n",
    "for person, power in team.items():\n",
    "    attack(person)\n",
    "    # 以下に、敵の体力を減少させるコードを書く\n",
    "    enemy_hp -= power\n",
    "    output_ememy_hp(enemy_hp)\n"
   ]
  },
  {
   "cell_type": "code",
   "execution_count": null,
   "metadata": {
    "collapsed": true
   },
   "outputs": [],
   "source": []
  },
  {
   "cell_type": "code",
   "execution_count": null,
   "metadata": {
    "collapsed": true
   },
   "outputs": [],
   "source": []
  }
 ],
 "metadata": {
  "kernelspec": {
   "display_name": "Python 3",
   "language": "python",
   "name": "python3"
  },
  "language_info": {
   "codemirror_mode": {
    "name": "ipython",
    "version": 3
   },
   "file_extension": ".py",
   "mimetype": "text/x-python",
   "name": "python",
   "nbconvert_exporter": "python",
   "pygments_lexer": "ipython3",
   "version": "3.6.3"
  }
 },
 "nbformat": 4,
 "nbformat_minor": 2
}
