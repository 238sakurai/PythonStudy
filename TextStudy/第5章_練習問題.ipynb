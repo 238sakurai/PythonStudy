{
 "cells": [
  {
   "cell_type": "code",
   "execution_count": 5,
   "metadata": {},
   "outputs": [
    {
     "name": "stdout",
     "output_type": "stream",
     "text": [
      "code -> CY001\n",
      "name -> 靴下\n",
      "price -> 1000\n",
      "stock -> 50\n"
     ]
    }
   ],
   "source": [
    "#練習問題その1_「辞書型を使いこなす」　0501_answer.py\n",
    "dict_var = dict(\n",
    "    code = 'CY001',\n",
    "    name = '靴下',\n",
    "    price = 1000,\n",
    "    stock = 50\n",
    ")\n",
    "for key,value in dict_var.items():\n",
    "    print(key + ' -> ' + str(value))"
   ]
  },
  {
   "cell_type": "code",
   "execution_count": 18,
   "metadata": {},
   "outputs": [
    {
     "name": "stdout",
     "output_type": "stream",
     "text": [
      "startからendまでの値1\n",
      "startからendまでの値2\n",
      "startからendまでの値3\n",
      "startからendまでの値4\n",
      "startからendまでの値5\n",
      "startからendまでの値6\n",
      "startからendまでの値7\n",
      "startからendまでの値8\n",
      "startからendまでの値9\n",
      "startからendまでの値10\n",
      "startからendまでの値11\n",
      "startからendまでの値12\n",
      "startからendまでの値13\n",
      "startからendまでの値14\n",
      "startからendまでの値15\n",
      "startからendまでの値16\n",
      "startからendまでの値17\n",
      "startからendまでの値18\n",
      "startからendまでの値19\n",
      "startからendまでの値20\n",
      "startからendまでの値21\n",
      "startからendまでの値22\n",
      "startからendまでの値23\n",
      "startからendまでの値24\n",
      "startからendまでの値25\n",
      "startからendまでの値26\n",
      "startからendまでの値27\n",
      "startからendまでの値28\n",
      "startからendまでの値29\n",
      "startからendまでの値30\n",
      "startからendまでの値31\n",
      "startからendまでの値32\n",
      "startからendまでの値33\n",
      "startからendまでの値34\n",
      "startからendまでの値35\n",
      "startからendまでの値36\n",
      "startからendまでの値37\n",
      "startからendまでの値38\n",
      "startからendまでの値39\n",
      "startからendまでの値40\n",
      "startからendまでの値41\n",
      "startからendまでの値42\n",
      "startからendまでの値43\n",
      "startからendまでの値44\n",
      "startからendまでの値45\n",
      "startからendまでの値46\n",
      "startからendまでの値47\n",
      "startからendまでの値48\n",
      "startからendまでの値49\n",
      "startからendまでの値50\n",
      "startからendまでの値51\n",
      "startからendまでの値52\n",
      "startからendまでの値53\n",
      "startからendまでの値54\n",
      "startからendまでの値55\n",
      "startからendまでの値56\n",
      "startからendまでの値57\n",
      "startからendまでの値58\n",
      "startからendまでの値59\n",
      "startからendまでの値60\n",
      "startからendまでの値61\n",
      "startからendまでの値62\n",
      "startからendまでの値63\n",
      "startからendまでの値64\n",
      "startからendまでの値65\n",
      "startからendまでの値66\n",
      "startからendまでの値67\n",
      "startからendまでの値68\n",
      "startからendまでの値69\n",
      "startからendまでの値70\n",
      "startからendまでの値71\n",
      "startからendまでの値72\n",
      "startからendまでの値73\n",
      "startからendまでの値74\n",
      "startからendまでの値75\n",
      "startからendまでの値76\n",
      "startからendまでの値77\n",
      "startからendまでの値78\n",
      "startからendまでの値79\n",
      "startからendまでの値80\n",
      "startからendまでの値81\n",
      "startからendまでの値82\n",
      "startからendまでの値83\n",
      "startからendまでの値84\n",
      "startからendまでの値85\n",
      "startからendまでの値86\n",
      "startからendまでの値87\n",
      "startからendまでの値88\n",
      "startからendまでの値89\n",
      "startからendまでの値90\n",
      "startからendまでの値91\n",
      "startからendまでの値92\n",
      "startからendまでの値93\n",
      "startからendまでの値94\n",
      "startからendまでの値95\n",
      "startからendまでの値96\n",
      "startからendまでの値97\n",
      "startからendまでの値98\n",
      "startからendまでの値99\n",
      "startからendまでの値100\n",
      "5050\n"
     ]
    }
   ],
   "source": [
    "#練習問題その2_「キーワード引数を使う」　0502_answer.py\n",
    "def get_sum(**kargs):\n",
    "    start = kargs['start']\n",
    "    end = kargs['end']\n",
    "    result = 0\n",
    "    for v in range(start,end+1):\n",
    "        result += v\n",
    "        print('startからendまでの値' + str(v))\n",
    "    return result\n",
    "\n",
    "val = get_sum(start=1,end=100)\n",
    "print(val)"
   ]
  },
  {
   "cell_type": "code",
   "execution_count": null,
   "metadata": {},
   "outputs": [],
   "source": [
    "\n"
   ]
  },
  {
   "cell_type": "code",
   "execution_count": null,
   "metadata": {
    "collapsed": true
   },
   "outputs": [],
   "source": []
  }
 ],
 "metadata": {
  "kernelspec": {
   "display_name": "Python 3",
   "language": "python",
   "name": "python3"
  },
  "language_info": {
   "codemirror_mode": {
    "name": "ipython",
    "version": 3
   },
   "file_extension": ".py",
   "mimetype": "text/x-python",
   "name": "python",
   "nbconvert_exporter": "python",
   "pygments_lexer": "ipython3",
   "version": "3.6.1"
  }
 },
 "nbformat": 4,
 "nbformat_minor": 2
}
