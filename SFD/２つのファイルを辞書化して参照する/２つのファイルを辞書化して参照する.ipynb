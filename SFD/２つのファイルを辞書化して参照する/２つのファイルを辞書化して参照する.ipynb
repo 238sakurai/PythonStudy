{
 "cells": [
  {
   "cell_type": "code",
   "execution_count": null,
   "metadata": {
    "collapsed": true
   },
   "outputs": [],
   "source": [
    "import os\n",
    "import gzip\n",
    "import codecs, csv\n",
    "\n",
    "#環境設定、リスト作成\n",
    "A_ID = []\n",
    "B_ID = []\n",
    "IP = []\n",
    "\n",
    "MASTER_AB_DICT = {}\n",
    "DAILY_AIP_DICT = {}\n",
    "\n",
    "\n",
    "#処理１.MASTER_DATA.tsv.gzを読み込む\n",
    "MASTER_DATA = gzip.open('MASTER_DATA.tsv.gz','rt')\n",
    "for line in MASTER_DATA:\n",
    "    line = line.split('^')\n",
    "    A_ID = line[0]\n",
    "    B_IDALL = line[1].split('=')\n",
    "    B_ID = B_IDALL[1]\n",
    "    MASTER_AB_DICT[A_ID] = B_ID\n",
    "MASTER_DATA.close()\n",
    "\n",
    "#処理2.DAILY_DATA.tsv.gzを読み込む\n",
    "DAILY_DATA = gzip.open('DAILY_DATA.tsv.gz','rt',encoding=\"UTF-8\")\n",
    "for line1 in DAILY_DATA:\n",
    "    line2 = line1.split('^')\n",
    "    A_IDq = line2[2]\n",
    "    A_ID = A_IDq.replace('\"','') \n",
    "    IPq = line2[3]\n",
    "    IP = IPq.replace('\"','')\n",
    "    DAILY_AIP_DICT[A_ID] = IP\n",
    "    \n",
    "DAILY_DATA.close()"
   ]
  },
  {
   "cell_type": "code",
   "execution_count": null,
   "metadata": {
    "collapsed": true
   },
   "outputs": [],
   "source": [
    "#処理１.デバック用\n",
    "#MASTER_AB_DICT"
   ]
  },
  {
   "cell_type": "code",
   "execution_count": null,
   "metadata": {
    "collapsed": true
   },
   "outputs": [],
   "source": [
    "#処理2.デバック用\n",
    "#DAILY_AIP_DICT"
   ]
  },
  {
   "cell_type": "code",
   "execution_count": null,
   "metadata": {
    "collapsed": true
   },
   "outputs": [],
   "source": [
    "#処理3. それぞれのリストをfor文で回して要素を取り出し比較する\n",
    "\n",
    "AID_BID_IP_LIST = []\n",
    "AID_BID_IP = []\n",
    "\n",
    "A_ID = []\n",
    "B_ID= []\n",
    "IP = []\n",
    "\n",
    "#DAILY_AIP_DICTのA_IDを１つ取得しDAILY_Aに代入\n",
    "for k in DAILY_AIP_DICT:\n",
    "    DAILY_A = k    \n",
    "    #MASTER_AB_DICTのA_IDを１つ取得しMASTER_Aに代入\n",
    "    if k in MASTER_AB_DICT:\n",
    "        A_ID = k\n",
    "        #一致したUASM_KUS_LISTのB_IDを取得\n",
    "        B_ID = MASTER_AB_DICT[A_ID]\n",
    "        #一致したSUD_KUIP_LISTのIPを取得\n",
    "        IP = DAILY_AIP_DICT[A_ID]\n",
    "        \n",
    "        #A_ID,B_ID,IPを1つのレコード(AID_BID_IP)に格納する\n",
    "        AID_BID_IP = (A_ID,B_ID,IP)\n",
    "        \n",
    "        #格納したレコードを(AID_BID_IP_LIST)リストにする\n",
    "        AID_BID_IP_LIST.append(AID_BID_IP)    "
   ]
  },
  {
   "cell_type": "code",
   "execution_count": null,
   "metadata": {
    "collapsed": true
   },
   "outputs": [],
   "source": [
    "#処理3.デバック用\n",
    "#AID_BID_IP_LIST\n",
    "\n",
    "#処理3デバック用　ファイル出力\n",
    "#test = open('AID_BID_IP_LIST.csv', 'wt')\n",
    "#for line in AID_BID_IP_LIST:\n",
    "#    A_ID = line[0]\n",
    "#    B_ID = line[1]\n",
    "#    IP = line[2]\n",
    "#    test.write(A_ID + '\\t' + B_ID + '\\t' + IP + '\\n')\n",
    "#test.close()\n"
   ]
  },
  {
   "cell_type": "code",
   "execution_count": null,
   "metadata": {
    "collapsed": true
   },
   "outputs": [],
   "source": [
    "#処理4.管理資料エクセルファイルを参照する\n",
    "#(手作業)IP列だけを(テキストファイル)IP.txtに書き込む。\n",
    "IP_LIST = []\n",
    "\n",
    "IPtxt = open('IP.txt','rt')\n",
    "for line in IPtxt:\n",
    "    IP = line.strip()\n",
    "    IP_LIST.append(IP)\n",
    "IPtxt.close()"
   ]
  },
  {
   "cell_type": "code",
   "execution_count": null,
   "metadata": {
    "collapsed": true,
    "slideshow": {
     "slide_type": "-"
    }
   },
   "outputs": [],
   "source": [
    "#処理4.デバック用\n",
    "#IP_LIST"
   ]
  },
  {
   "cell_type": "code",
   "execution_count": null,
   "metadata": {
    "collapsed": true
   },
   "outputs": [],
   "source": [
    "#処理5．IPLISTの1列目をAID_BID_IP_LISTのIPと完全一致検索する\n",
    "\n",
    "IP_LIST_SET = set(IP_LIST)\n",
    "AID_BID_IP_LIST_SET = set([x[2] for x in AID_BID_IP_LIST])\n",
    "SHARE_IP = IP_LIST_SET & AID_BID_IP_LIST_SET\n"
   ]
  },
  {
   "cell_type": "code",
   "execution_count": null,
   "metadata": {
    "collapsed": true
   },
   "outputs": [],
   "source": [
    "#処理6.処理5にて作成したリストをファイル出力する\n",
    "test = open('DATA.csv', 'wt')\n",
    "for line in SHARE_IP:\n",
    "    test.write(line + '\\n')\n",
    "test.close()"
   ]
  },
  {
   "cell_type": "code",
   "execution_count": null,
   "metadata": {
    "collapsed": true,
    "scrolled": true
   },
   "outputs": [],
   "source": []
  },
  {
   "cell_type": "code",
   "execution_count": null,
   "metadata": {
    "collapsed": true
   },
   "outputs": [],
   "source": []
  }
 ],
 "metadata": {
  "celltoolbar": "Edit Metadata",
  "kernelspec": {
   "display_name": "Python 3",
   "language": "python",
   "name": "python3"
  },
  "language_info": {
   "codemirror_mode": {
    "name": "ipython",
    "version": 3
   },
   "file_extension": ".py",
   "mimetype": "text/x-python",
   "name": "python",
   "nbconvert_exporter": "python",
   "pygments_lexer": "ipython3",
   "version": "3.6.1"
  }
 },
 "nbformat": 4,
 "nbformat_minor": 2
}
